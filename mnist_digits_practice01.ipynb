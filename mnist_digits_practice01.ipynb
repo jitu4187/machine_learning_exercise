{
 "cells": [
  {
   "cell_type": "markdown",
   "metadata": {
    "colab_type": "text",
    "id": "H9pphNqqFve-"
   },
   "source": [
    "# Exercise 1 Objective:\n",
    "\n",
    "Use the large MNIST dataset and apply PCA to measure the impact on model training time and model performance for LogisticRegression."
   ]
  },
  {
   "cell_type": "code",
   "execution_count": 30,
   "metadata": {
    "colab": {},
    "colab_type": "code",
    "id": "RkbQkRkNFjn2"
   },
   "outputs": [],
   "source": [
    "import numpy as np\n",
    "import pandas as pd\n",
    "import matplotlib.pyplot as plt\n",
    "\n",
    "np.random.seed(42)\n",
    "\n",
    "from sklearn.datasets import fetch_openml\n",
    "from sklearn.model_selection import train_test_split\n",
    "from sklearn.preprocessing import StandardScaler\n",
    "from sklearn.decomposition import PCA\n",
    "from sklearn.linear_model import LogisticRegression"
   ]
  },
  {
   "cell_type": "code",
   "execution_count": 31,
   "metadata": {
    "colab": {},
    "colab_type": "code",
    "id": "sc9tKI0gF5_G"
   },
   "outputs": [],
   "source": [
    "mnist = fetch_openml('mnist_784', version=1, cache=True)\n",
    "mnist.target = mnist.target.astype(np.int8) # fetch_openml() returns targets as strings\n",
    "\n",
    "X, y = mnist[\"data\"], mnist[\"target\"]"
   ]
  },
  {
   "cell_type": "markdown",
   "metadata": {
    "colab_type": "text",
    "id": "2zVF3pvMHiAJ"
   },
   "source": [
    "### Split data into 80/20 train and test sets"
   ]
  },
  {
   "cell_type": "code",
   "execution_count": 32,
   "metadata": {
    "colab": {},
    "colab_type": "code",
    "id": "FxVFDOX_F-iw"
   },
   "outputs": [],
   "source": [
    "# Your code here\n",
    "X_train, X_test, y_train, y_test = train_test_split(X, y, test_size=0.2)"
   ]
  },
  {
   "cell_type": "code",
   "execution_count": 33,
   "metadata": {
    "colab": {
     "base_uri": "https://localhost:8080/",
     "height": 34
    },
    "colab_type": "code",
    "executionInfo": {
     "elapsed": 446,
     "status": "ok",
     "timestamp": 1552593397370,
     "user": {
      "displayName": "Saeid Abolfazli",
      "photoUrl": "",
      "userId": "03288941312928329554"
     },
     "user_tz": 240
    },
    "id": "iY_oQehrHlWa",
    "outputId": "db1921e2-1fd9-44c5-fffe-7a5e973826bc"
   },
   "outputs": [
    {
     "data": {
      "text/plain": [
       "((56000, 784), (14000, 784), (56000,), (14000,))"
      ]
     },
     "execution_count": 33,
     "metadata": {},
     "output_type": "execute_result"
    }
   ],
   "source": [
    "X_train.shape, X_test.shape, y_train.shape, y_test.shape"
   ]
  },
  {
   "cell_type": "markdown",
   "metadata": {
    "colab_type": "text",
    "id": "2e-0MowUIN1_"
   },
   "source": [
    "### Standardize the data to suit PCA with a center at zero"
   ]
  },
  {
   "cell_type": "code",
   "execution_count": 34,
   "metadata": {
    "colab": {},
    "colab_type": "code",
    "id": "mAoSLQYOHnt5"
   },
   "outputs": [],
   "source": [
    "scaler = StandardScaler()\n",
    "\n",
    "# Your code here\n",
    "X_train = scaler.fit_transform(X_train)\n",
    "X_test = scaler.transform(X_test)"
   ]
  },
  {
   "cell_type": "markdown",
   "metadata": {
    "colab_type": "text",
    "id": "8suV9hTYyN2_"
   },
   "source": [
    "### Apply PCA to the data"
   ]
  },
  {
   "cell_type": "code",
   "execution_count": 40,
   "metadata": {
    "colab": {
     "base_uri": "https://localhost:8080/",
     "height": 50
    },
    "colab_type": "code",
    "executionInfo": {
     "elapsed": 12279,
     "status": "ok",
     "timestamp": 1552593423480,
     "user": {
      "displayName": "Saeid Abolfazli",
      "photoUrl": "",
      "userId": "03288941312928329554"
     },
     "user_tz": 240
    },
    "id": "AdL_WHYHIqJn",
    "outputId": "2bc90477-d6d7-4e8d-b772-3c16e048c48e"
   },
   "outputs": [],
   "source": [
    "pca = PCA(n_components=0.85)  # leave the hyperparameters default for now\n",
    "\n",
    "# Your code here\n",
    "X_train = pca.fit_transform(X_train)\n",
    "X_test = pca.transform(X_test)"
   ]
  },
  {
   "cell_type": "code",
   "execution_count": 41,
   "metadata": {
    "colab": {
     "base_uri": "https://localhost:8080/",
     "height": 34
    },
    "colab_type": "code",
    "executionInfo": {
     "elapsed": 403,
     "status": "ok",
     "timestamp": 1552593427668,
     "user": {
      "displayName": "Saeid Abolfazli",
      "photoUrl": "",
      "userId": "03288941312928329554"
     },
     "user_tz": 240
    },
    "id": "avBBGnfKJj2Q",
    "outputId": "d05109ee-6016-4991-efbc-e35e4901c3c7"
   },
   "outputs": [
    {
     "data": {
      "text/plain": [
       "153"
      ]
     },
     "execution_count": 41,
     "metadata": {},
     "output_type": "execute_result"
    }
   ],
   "source": [
    "pca.n_components_"
   ]
  },
  {
   "cell_type": "markdown",
   "metadata": {
    "colab_type": "text",
    "id": "-hQFCo4JJ1Rz"
   },
   "source": [
    "## Build a logistic regression model with solver='lbfgs' and multi_class='auto'"
   ]
  },
  {
   "cell_type": "code",
   "execution_count": 42,
   "metadata": {
    "colab": {
     "base_uri": "https://localhost:8080/",
     "height": 50
    },
    "colab_type": "code",
    "executionInfo": {
     "elapsed": 89438,
     "status": "ok",
     "timestamp": 1552585449903,
     "user": {
      "displayName": "Saeid Abolfazli",
      "photoUrl": "",
      "userId": "03288941312928329554"
     },
     "user_tz": 240
    },
    "id": "TWGajY2pJzIP",
    "outputId": "5cfbb6df-13bf-47b5-efc4-3b7294fbee1a"
   },
   "outputs": [],
   "source": [
    "# Your code here\n",
    "model = LogisticRegression(solver='lbfgs', multi_class='auto')"
   ]
  },
  {
   "cell_type": "markdown",
   "metadata": {},
   "source": [
    "## Fit the model and time it"
   ]
  },
  {
   "cell_type": "code",
   "execution_count": 43,
   "metadata": {
    "colab": {
     "base_uri": "https://localhost:8080/",
     "height": 34
    },
    "colab_type": "code",
    "executionInfo": {
     "elapsed": 89427,
     "status": "ok",
     "timestamp": 1552585449904,
     "user": {
      "displayName": "Saeid Abolfazli",
      "photoUrl": "",
      "userId": "03288941312928329554"
     },
     "user_tz": 240
    },
    "id": "SzSIMXttJ_Zy",
    "outputId": "55fc4268-1828-4219-8f4b-66f4e79dd822"
   },
   "outputs": [
    {
     "name": "stdout",
     "output_type": "stream",
     "text": [
      "CPU times: user 8.98 s, sys: 248 ms, total: 9.23 s\n",
      "Wall time: 2.31 s\n"
     ]
    },
    {
     "name": "stderr",
     "output_type": "stream",
     "text": [
      "/home/matt/anaconda3/lib/python3.7/site-packages/sklearn/linear_model/logistic.py:947: ConvergenceWarning: lbfgs failed to converge. Increase the number of iterations.\n",
      "  \"of iterations.\", ConvergenceWarning)\n"
     ]
    },
    {
     "data": {
      "text/plain": [
       "LogisticRegression(C=1.0, class_weight=None, dual=False, fit_intercept=True,\n",
       "                   intercept_scaling=1, l1_ratio=None, max_iter=100,\n",
       "                   multi_class='auto', n_jobs=None, penalty='l2',\n",
       "                   random_state=None, solver='lbfgs', tol=0.0001, verbose=0,\n",
       "                   warm_start=False)"
      ]
     },
     "execution_count": 43,
     "metadata": {},
     "output_type": "execute_result"
    }
   ],
   "source": [
    "%%time\n",
    "\n",
    "model.fit(X_train, y_train)"
   ]
  },
  {
   "cell_type": "markdown",
   "metadata": {
    "colab_type": "text",
    "id": "Jt4e5w9iKFNF"
   },
   "source": [
    "## Evaluate the performance"
   ]
  },
  {
   "cell_type": "code",
   "execution_count": 44,
   "metadata": {
    "colab": {
     "base_uri": "https://localhost:8080/",
     "height": 34
    },
    "colab_type": "code",
    "executionInfo": {
     "elapsed": 89417,
     "status": "ok",
     "timestamp": 1552585449905,
     "user": {
      "displayName": "Saeid Abolfazli",
      "photoUrl": "",
      "userId": "03288941312928329554"
     },
     "user_tz": 240
    },
    "id": "SP9TM_6GKGMp",
    "outputId": "7964ff40-4b12-4e23-ecc3-86828b00029b"
   },
   "outputs": [
    {
     "name": "stdout",
     "output_type": "stream",
     "text": [
      "0.9221428571428572\n"
     ]
    }
   ],
   "source": [
    "print(model.score(X_test, y_test))"
   ]
  },
  {
   "cell_type": "markdown",
   "metadata": {},
   "source": [
    "### Go back and change n_components to 0.95 and 0.85 and fill in the table below"
   ]
  },
  {
   "cell_type": "code",
   "execution_count": 47,
   "metadata": {
    "colab": {
     "base_uri": "https://localhost:8080/",
     "height": 195
    },
    "colab_type": "code",
    "executionInfo": {
     "elapsed": 502,
     "status": "ok",
     "timestamp": 1552593672821,
     "user": {
      "displayName": "Saeid Abolfazli",
      "photoUrl": "",
      "userId": "03288941312928329554"
     },
     "user_tz": 240
    },
    "id": "R3ED7CHoKL55",
    "outputId": "426a5317-d76d-42f5-d2b8-5d94143a1c4c"
   },
   "outputs": [],
   "source": [
    "# Your data here\n",
    "df = pd.DataFrame(data = [[1.00, 784, 6.54, .915],\n",
    "                          [0.95, 330, 3.65, .921],\n",
    "                          [0.85, 153, 2.31, .922]], \n",
    "                  columns = ['Variance Retained',\n",
    "                             'Number of Components',\n",
    "                             'Time (seconds)',\n",
    "                             'Accuracy'])"
   ]
  },
  {
   "cell_type": "code",
   "execution_count": 52,
   "metadata": {
    "colab": {},
    "colab_type": "code",
    "id": "wTf4FVzqyyYo"
   },
   "outputs": [
    {
     "data": {
      "image/png": "[encoded data removed]",
      "text/plain": [
       "<Figure size 432x288 with 1 Axes>"
      ]
     },
     "metadata": {
      "needs_background": "light"
     },
     "output_type": "display_data"
    },
    {
     "data": {
      "image/png": "[encoded data removed]",
      "text/plain": [
       "<Figure size 432x288 with 1 Axes>"
      ]
     },
     "metadata": {
      "needs_background": "light"
     },
     "output_type": "display_data"
    },
    {
     "data": {
      "image/png": "[encoded data removed]",
      "text/plain": [
       "<Figure size 432x288 with 1 Axes>"
      ]
     },
     "metadata": {
      "needs_background": "light"
     },
     "output_type": "display_data"
    },
    {
     "data": {
      "image/png": "[encoded data removed]",
      "text/plain": [
       "<Figure size 432x288 with 1 Axes>"
      ]
     },
     "metadata": {
      "needs_background": "light"
     },
     "output_type": "display_data"
    }
   ],
   "source": [
    "for col in df.columns:\n",
    "    plt.figure()\n",
    "    df[col].plot();\n",
    "    plt.title(col)"
   ]
  }
 ],
 "metadata": {
  "colab": {
   "collapsed_sections": [],
   "name": "PCA MNIST Student Practice.ipynb",
   "provenance": [],
   "version": "0.3.2"
  },
  "kernelspec": {
   "display_name": "Python 3",
   "language": "python",
   "name": "python3"
  },
  "language_info": {
   "codemirror_mode": {
    "name": "ipython",
    "version": 3
   },
   "file_extension": ".py",
   "mimetype": "text/x-python",
   "name": "python",
   "nbconvert_exporter": "python",
   "pygments_lexer": "ipython3",
   "version": "3.7.3"
  }
 },
 "nbformat": 4,
 "nbformat_minor": 1
}
